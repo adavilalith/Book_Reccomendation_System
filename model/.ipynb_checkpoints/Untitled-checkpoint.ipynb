{
 "cells": [
  {
   "cell_type": "code",
   "execution_count": 1,
   "id": "845a81da-eaf3-4087-941f-30eec8b9ec50",
   "metadata": {},
   "outputs": [],
   "source": [
    "import numpy as np\n",
    "import pandas as pd\n",
    "import pickle"
   ]
  },
  {
   "cell_type": "code",
   "execution_count": 2,
   "id": "1bf56e2e-4314-4bcb-b7b9-70c35e08dbfb",
   "metadata": {},
   "outputs": [],
   "source": [
    "pt = pickle.load(open('../backend/res/pt.pkl','rb'))\n",
    "books = pickle.load(open('../backend/res/books.pkl','rb'))\n",
    "scores = pickle.load(open('../backend/res/scores.pkl','rb'))"
   ]
  },
  {
   "cell_type": "code",
   "execution_count": null,
   "id": "04e37bf7-2274-40a5-9222-eac3e0f8bc8a",
   "metadata": {},
   "outputs": [],
   "source": []
  }
 ],
 "metadata": {
  "kernelspec": {
   "display_name": "Python 3 (ipykernel)",
   "language": "python",
   "name": "python3"
  },
  "language_info": {
   "codemirror_mode": {
    "name": "ipython",
    "version": 3
   },
   "file_extension": ".py",
   "mimetype": "text/x-python",
   "name": "python",
   "nbconvert_exporter": "python",
   "pygments_lexer": "ipython3",
   "version": "3.10.11"
  }
 },
 "nbformat": 4,
 "nbformat_minor": 5
}
